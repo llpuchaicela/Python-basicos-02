{
 "cells": [
  {
   "cell_type": "code",
   "execution_count": 5,
   "metadata": {},
   "outputs": [],
   "source": [
    "import pandas as pd\n",
    "#DATA ORIGINAL"
   ]
  },
  {
   "cell_type": "code",
   "execution_count": 6,
   "metadata": {},
   "outputs": [
    {
     "name": "stdout",
     "output_type": "stream",
     "text": [
      " El volumen de la unidad C no tiene etiqueta.\n",
      " El n£mero de serie del volumen es: E469-A03C\n",
      "\n",
      " Directorio de C:\\Users\\Dell‡\\Documents\\proyectPython\\Python-basicos-02\n",
      "\n",
      "10/03/2022  17:28    <DIR>          .\n",
      "10/03/2022  17:28    <DIR>          ..\n",
      "10/03/2022  17:17    <DIR>          .ipynb_checkpoints\n",
      "10/03/2022  17:17    <DIR>          data\n",
      "10/03/2022  17:28             9.057 Ejemplo-Pandas-01.ipynb\n",
      "10/03/2022  17:17             2.034 Ejemplo-Pandas-02.ipynb\n",
      "10/03/2022  17:17    <DIR>          images\n",
      "10/03/2022  17:17               721 README.md\n",
      "               3 archivos         11.812 bytes\n",
      "               5 dirs  815.777.095.680 bytes libres\n"
     ]
    }
   ],
   "source": [
    "ls"
   ]
  },
  {
   "cell_type": "code",
   "execution_count": 7,
   "metadata": {},
   "outputs": [
    {
     "name": "stderr",
     "output_type": "stream",
     "text": [
      "El modificador no es v lido: \"\".\n"
     ]
    }
   ],
   "source": [
    "ls data/"
   ]
  },
  {
   "cell_type": "code",
   "execution_count": 8,
   "metadata": {},
   "outputs": [],
   "source": [
    "data1 = pd.read_csv(\"data/data-mundial-2018-01.csv\")\n",
    "data2 = pd.read_csv(\"data/data-mundial-2018-02.csv\")"
   ]
  },
  {
   "cell_type": "code",
   "execution_count": 9,
   "metadata": {},
   "outputs": [
    {
     "data": {
      "text/plain": [
       "Index(['ID', 'Numero', 'FIFADisplayName', 'Country', 'LastName', 'FirstName'], dtype='object')"
      ]
     },
     "execution_count": 9,
     "metadata": {},
     "output_type": "execute_result"
    }
   ],
   "source": [
    "data1.keys()"
   ]
  },
  {
   "cell_type": "code",
   "execution_count": 10,
   "metadata": {},
   "outputs": [
    {
     "data": {
      "text/plain": [
       "Index(['ID', 'ShirtName', 'DOB', 'POS', 'Club', 'Height', 'Caps', 'Goals'], dtype='object')"
      ]
     },
     "execution_count": 10,
     "metadata": {},
     "output_type": "execute_result"
    }
   ],
   "source": [
    "data2.keys()"
   ]
  },
  {
   "cell_type": "code",
   "execution_count": 11,
   "metadata": {},
   "outputs": [
    {
     "data": {
      "text/html": [
       "<div>\n",
       "<style scoped>\n",
       "    .dataframe tbody tr th:only-of-type {\n",
       "        vertical-align: middle;\n",
       "    }\n",
       "\n",
       "    .dataframe tbody tr th {\n",
       "        vertical-align: top;\n",
       "    }\n",
       "\n",
       "    .dataframe thead th {\n",
       "        text-align: right;\n",
       "    }\n",
       "</style>\n",
       "<table border=\"1\" class=\"dataframe\">\n",
       "  <thead>\n",
       "    <tr style=\"text-align: right;\">\n",
       "      <th></th>\n",
       "      <th>ID</th>\n",
       "      <th>Numero</th>\n",
       "      <th>FIFADisplayName</th>\n",
       "      <th>Country</th>\n",
       "      <th>LastName</th>\n",
       "      <th>FirstName</th>\n",
       "    </tr>\n",
       "  </thead>\n",
       "  <tbody>\n",
       "    <tr>\n",
       "      <th>0</th>\n",
       "      <td>1</td>\n",
       "      <td>1</td>\n",
       "      <td>Nahuel GUZMAN</td>\n",
       "      <td>Argentina</td>\n",
       "      <td>GUZMÁN</td>\n",
       "      <td>Nahuel Ignacio</td>\n",
       "    </tr>\n",
       "    <tr>\n",
       "      <th>1</th>\n",
       "      <td>2</td>\n",
       "      <td>2</td>\n",
       "      <td>Gabriel MERCADO</td>\n",
       "      <td>Argentina</td>\n",
       "      <td>MERCADO</td>\n",
       "      <td>Gabriel Ivan</td>\n",
       "    </tr>\n",
       "    <tr>\n",
       "      <th>2</th>\n",
       "      <td>3</td>\n",
       "      <td>3</td>\n",
       "      <td>Nicolas TAGLIAFICO</td>\n",
       "      <td>Argentina</td>\n",
       "      <td>TAGLIAFICO</td>\n",
       "      <td>Nicolás Alejandro</td>\n",
       "    </tr>\n",
       "    <tr>\n",
       "      <th>3</th>\n",
       "      <td>4</td>\n",
       "      <td>4</td>\n",
       "      <td>Cristian ANSALDI</td>\n",
       "      <td>Argentina</td>\n",
       "      <td>ANSALDI</td>\n",
       "      <td>Cristian Daniel</td>\n",
       "    </tr>\n",
       "    <tr>\n",
       "      <th>4</th>\n",
       "      <td>5</td>\n",
       "      <td>5</td>\n",
       "      <td>Lucas BIGLIA</td>\n",
       "      <td>Argentina</td>\n",
       "      <td>BIGLIA</td>\n",
       "      <td>Lucas Rodrigo</td>\n",
       "    </tr>\n",
       "  </tbody>\n",
       "</table>\n",
       "</div>"
      ],
      "text/plain": [
       "   ID  Numero     FIFADisplayName    Country    LastName          FirstName\n",
       "0   1       1       Nahuel GUZMAN  Argentina      GUZMÁN     Nahuel Ignacio\n",
       "1   2       2     Gabriel MERCADO  Argentina     MERCADO       Gabriel Ivan\n",
       "2   3       3  Nicolas TAGLIAFICO  Argentina  TAGLIAFICO  Nicolás Alejandro\n",
       "3   4       4    Cristian ANSALDI  Argentina     ANSALDI    Cristian Daniel\n",
       "4   5       5        Lucas BIGLIA  Argentina      BIGLIA      Lucas Rodrigo"
      ]
     },
     "execution_count": 11,
     "metadata": {},
     "output_type": "execute_result"
    }
   ],
   "source": [
    "data1.head()"
   ]
  },
  {
   "cell_type": "code",
   "execution_count": 12,
   "metadata": {},
   "outputs": [
    {
     "data": {
      "text/html": [
       "<div>\n",
       "<style scoped>\n",
       "    .dataframe tbody tr th:only-of-type {\n",
       "        vertical-align: middle;\n",
       "    }\n",
       "\n",
       "    .dataframe tbody tr th {\n",
       "        vertical-align: top;\n",
       "    }\n",
       "\n",
       "    .dataframe thead th {\n",
       "        text-align: right;\n",
       "    }\n",
       "</style>\n",
       "<table border=\"1\" class=\"dataframe\">\n",
       "  <thead>\n",
       "    <tr style=\"text-align: right;\">\n",
       "      <th></th>\n",
       "      <th>ID</th>\n",
       "      <th>ShirtName</th>\n",
       "      <th>DOB</th>\n",
       "      <th>POS</th>\n",
       "      <th>Club</th>\n",
       "      <th>Height</th>\n",
       "      <th>Caps</th>\n",
       "      <th>Goals</th>\n",
       "    </tr>\n",
       "  </thead>\n",
       "  <tbody>\n",
       "    <tr>\n",
       "      <th>0</th>\n",
       "      <td>1</td>\n",
       "      <td>GUZMÁN</td>\n",
       "      <td>10.02.1986</td>\n",
       "      <td>GK</td>\n",
       "      <td>Tigres (MEX)</td>\n",
       "      <td>192</td>\n",
       "      <td>6</td>\n",
       "      <td>0</td>\n",
       "    </tr>\n",
       "    <tr>\n",
       "      <th>1</th>\n",
       "      <td>2</td>\n",
       "      <td>MERCADO</td>\n",
       "      <td>18.03.1987</td>\n",
       "      <td>DF</td>\n",
       "      <td>Sevilla FC (ESP)</td>\n",
       "      <td>181</td>\n",
       "      <td>20</td>\n",
       "      <td>3</td>\n",
       "    </tr>\n",
       "    <tr>\n",
       "      <th>2</th>\n",
       "      <td>3</td>\n",
       "      <td>TAGLIAFICO</td>\n",
       "      <td>31.08.1992</td>\n",
       "      <td>DF</td>\n",
       "      <td>Ajax (NED)</td>\n",
       "      <td>169</td>\n",
       "      <td>4</td>\n",
       "      <td>0</td>\n",
       "    </tr>\n",
       "    <tr>\n",
       "      <th>3</th>\n",
       "      <td>4</td>\n",
       "      <td>ANSALDI</td>\n",
       "      <td>20.09.1986</td>\n",
       "      <td>DF</td>\n",
       "      <td>Torino (ITA)</td>\n",
       "      <td>181</td>\n",
       "      <td>5</td>\n",
       "      <td>1</td>\n",
       "    </tr>\n",
       "    <tr>\n",
       "      <th>4</th>\n",
       "      <td>5</td>\n",
       "      <td>BIGLIA</td>\n",
       "      <td>30.01.1986</td>\n",
       "      <td>MF</td>\n",
       "      <td>AC Milan (ITA)</td>\n",
       "      <td>175</td>\n",
       "      <td>57</td>\n",
       "      <td>1</td>\n",
       "    </tr>\n",
       "  </tbody>\n",
       "</table>\n",
       "</div>"
      ],
      "text/plain": [
       "   ID   ShirtName         DOB POS              Club  Height  Caps  Goals\n",
       "0   1      GUZMÁN  10.02.1986  GK      Tigres (MEX)     192     6      0\n",
       "1   2     MERCADO  18.03.1987  DF  Sevilla FC (ESP)     181    20      3\n",
       "2   3  TAGLIAFICO  31.08.1992  DF        Ajax (NED)     169     4      0\n",
       "3   4     ANSALDI  20.09.1986  DF      Torino (ITA)     181     5      1\n",
       "4   5      BIGLIA  30.01.1986  MF    AC Milan (ITA)     175    57      1"
      ]
     },
     "execution_count": 12,
     "metadata": {},
     "output_type": "execute_result"
    }
   ],
   "source": [
    "data2.head()"
   ]
  },
  {
   "cell_type": "code",
   "execution_count": 13,
   "metadata": {},
   "outputs": [],
   "source": [
    "resultado = pd.merge(data1, data2, on=\"ID\") #merge es igual a un join"
   ]
  },
  {
   "cell_type": "code",
   "execution_count": 14,
   "metadata": {},
   "outputs": [
    {
     "data": {
      "text/html": [
       "<div>\n",
       "<style scoped>\n",
       "    .dataframe tbody tr th:only-of-type {\n",
       "        vertical-align: middle;\n",
       "    }\n",
       "\n",
       "    .dataframe tbody tr th {\n",
       "        vertical-align: top;\n",
       "    }\n",
       "\n",
       "    .dataframe thead th {\n",
       "        text-align: right;\n",
       "    }\n",
       "</style>\n",
       "<table border=\"1\" class=\"dataframe\">\n",
       "  <thead>\n",
       "    <tr style=\"text-align: right;\">\n",
       "      <th></th>\n",
       "      <th>ID</th>\n",
       "      <th>Numero</th>\n",
       "      <th>FIFADisplayName</th>\n",
       "      <th>Country</th>\n",
       "      <th>LastName</th>\n",
       "      <th>FirstName</th>\n",
       "      <th>ShirtName</th>\n",
       "      <th>DOB</th>\n",
       "      <th>POS</th>\n",
       "      <th>Club</th>\n",
       "      <th>Height</th>\n",
       "      <th>Caps</th>\n",
       "      <th>Goals</th>\n",
       "    </tr>\n",
       "  </thead>\n",
       "  <tbody>\n",
       "    <tr>\n",
       "      <th>0</th>\n",
       "      <td>1</td>\n",
       "      <td>1</td>\n",
       "      <td>Nahuel GUZMAN</td>\n",
       "      <td>Argentina</td>\n",
       "      <td>GUZMÁN</td>\n",
       "      <td>Nahuel Ignacio</td>\n",
       "      <td>GUZMÁN</td>\n",
       "      <td>10.02.1986</td>\n",
       "      <td>GK</td>\n",
       "      <td>Tigres (MEX)</td>\n",
       "      <td>192</td>\n",
       "      <td>6</td>\n",
       "      <td>0</td>\n",
       "    </tr>\n",
       "    <tr>\n",
       "      <th>1</th>\n",
       "      <td>2</td>\n",
       "      <td>2</td>\n",
       "      <td>Gabriel MERCADO</td>\n",
       "      <td>Argentina</td>\n",
       "      <td>MERCADO</td>\n",
       "      <td>Gabriel Ivan</td>\n",
       "      <td>MERCADO</td>\n",
       "      <td>18.03.1987</td>\n",
       "      <td>DF</td>\n",
       "      <td>Sevilla FC (ESP)</td>\n",
       "      <td>181</td>\n",
       "      <td>20</td>\n",
       "      <td>3</td>\n",
       "    </tr>\n",
       "    <tr>\n",
       "      <th>2</th>\n",
       "      <td>3</td>\n",
       "      <td>3</td>\n",
       "      <td>Nicolas TAGLIAFICO</td>\n",
       "      <td>Argentina</td>\n",
       "      <td>TAGLIAFICO</td>\n",
       "      <td>Nicolás Alejandro</td>\n",
       "      <td>TAGLIAFICO</td>\n",
       "      <td>31.08.1992</td>\n",
       "      <td>DF</td>\n",
       "      <td>Ajax (NED)</td>\n",
       "      <td>169</td>\n",
       "      <td>4</td>\n",
       "      <td>0</td>\n",
       "    </tr>\n",
       "    <tr>\n",
       "      <th>3</th>\n",
       "      <td>4</td>\n",
       "      <td>4</td>\n",
       "      <td>Cristian ANSALDI</td>\n",
       "      <td>Argentina</td>\n",
       "      <td>ANSALDI</td>\n",
       "      <td>Cristian Daniel</td>\n",
       "      <td>ANSALDI</td>\n",
       "      <td>20.09.1986</td>\n",
       "      <td>DF</td>\n",
       "      <td>Torino (ITA)</td>\n",
       "      <td>181</td>\n",
       "      <td>5</td>\n",
       "      <td>1</td>\n",
       "    </tr>\n",
       "    <tr>\n",
       "      <th>4</th>\n",
       "      <td>5</td>\n",
       "      <td>5</td>\n",
       "      <td>Lucas BIGLIA</td>\n",
       "      <td>Argentina</td>\n",
       "      <td>BIGLIA</td>\n",
       "      <td>Lucas Rodrigo</td>\n",
       "      <td>BIGLIA</td>\n",
       "      <td>30.01.1986</td>\n",
       "      <td>MF</td>\n",
       "      <td>AC Milan (ITA)</td>\n",
       "      <td>175</td>\n",
       "      <td>57</td>\n",
       "      <td>1</td>\n",
       "    </tr>\n",
       "  </tbody>\n",
       "</table>\n",
       "</div>"
      ],
      "text/plain": [
       "   ID  Numero     FIFADisplayName    Country    LastName          FirstName  \\\n",
       "0   1       1       Nahuel GUZMAN  Argentina      GUZMÁN     Nahuel Ignacio   \n",
       "1   2       2     Gabriel MERCADO  Argentina     MERCADO       Gabriel Ivan   \n",
       "2   3       3  Nicolas TAGLIAFICO  Argentina  TAGLIAFICO  Nicolás Alejandro   \n",
       "3   4       4    Cristian ANSALDI  Argentina     ANSALDI    Cristian Daniel   \n",
       "4   5       5        Lucas BIGLIA  Argentina      BIGLIA      Lucas Rodrigo   \n",
       "\n",
       "    ShirtName         DOB POS              Club  Height  Caps  Goals  \n",
       "0      GUZMÁN  10.02.1986  GK      Tigres (MEX)     192     6      0  \n",
       "1     MERCADO  18.03.1987  DF  Sevilla FC (ESP)     181    20      3  \n",
       "2  TAGLIAFICO  31.08.1992  DF        Ajax (NED)     169     4      0  \n",
       "3     ANSALDI  20.09.1986  DF      Torino (ITA)     181     5      1  \n",
       "4      BIGLIA  30.01.1986  MF    AC Milan (ITA)     175    57      1  "
      ]
     },
     "execution_count": 14,
     "metadata": {},
     "output_type": "execute_result"
    }
   ],
   "source": [
    "resultado.head()"
   ]
  },
  {
   "cell_type": "code",
   "execution_count": 17,
   "metadata": {},
   "outputs": [],
   "source": [
    "resultado.to_csv(\"data/data-mundial.csv\") #union de los dos data_csv"
   ]
  },
  {
   "cell_type": "code",
   "execution_count": 25,
   "metadata": {},
   "outputs": [
    {
     "data": {
      "text/plain": [
       "Index(['ID', 'Numero', 'FIFADisplayName', 'Country', 'LastName', 'FirstName',\n",
       "       'ShirtName', 'DOB', 'POS', 'Club', 'Height', 'Caps', 'Goals'],\n",
       "      dtype='object')"
      ]
     },
     "execution_count": 25,
     "metadata": {},
     "output_type": "execute_result"
    }
   ],
   "source": [
    "resultado.keys() #atributos del resultado"
   ]
  },
  {
   "cell_type": "code",
   "execution_count": 35,
   "metadata": {},
   "outputs": [
    {
     "data": {
      "text/plain": [
       "(736, 13)"
      ]
     },
     "execution_count": 35,
     "metadata": {},
     "output_type": "execute_result"
    }
   ],
   "source": [
    "resultado.shape #numero de filas y columnas"
   ]
  }
 ],
 "metadata": {
  "kernelspec": {
   "display_name": "Python 3",
   "language": "python",
   "name": "python3"
  },
  "language_info": {
   "codemirror_mode": {
    "name": "ipython",
    "version": 3
   },
   "file_extension": ".py",
   "mimetype": "text/x-python",
   "name": "python",
   "nbconvert_exporter": "python",
   "pygments_lexer": "ipython3",
   "version": "3.10.2"
  }
 },
 "nbformat": 4,
 "nbformat_minor": 1
}
